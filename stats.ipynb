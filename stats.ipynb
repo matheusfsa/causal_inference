{
 "cells": [
  {
   "cell_type": "code",
   "execution_count": 1,
   "metadata": {},
   "outputs": [],
   "source": [
    "import numpy as np\n",
    "import matplotlib.pyplot as plt\n",
    "import pandas as pd\n",
    "import pandas as pd\n",
    "import numpy as np\n",
    "import statsmodels.formula.api as smf"
   ]
  },
  {
   "cell_type": "markdown",
   "metadata": {},
   "source": [
    "# Teorema do Limite central\n",
    "Quanto maior o número de amostras geradas a partir de uma distribuição, a distribuição das médias dessa amostras se aproxima de uma normal. "
   ]
  },
  {
   "cell_type": "code",
   "execution_count": 27,
   "metadata": {},
   "outputs": [
    {
     "data": {
      "image/png": "[encoded data removed]",
      "text/plain": [
       "<Figure size 800x500 with 1 Axes>"
      ]
     },
     "metadata": {},
     "output_type": "display_data"
    }
   ],
   "source": [
    "true_std = 2\n",
    "true_mean = 74\n",
    "\n",
    "n = 500\n",
    "def run_experiment(n=500): \n",
    "    return np.random.normal(true_mean,true_std, n)\n",
    "\n",
    "np.random.seed(42)\n",
    "\n",
    "plt.figure(figsize=(8,5))\n",
    "freq, bins, img = plt.hist([run_experiment().mean() for _ in range(10000)], bins=40, label=\"Experiment Means\")\n",
    "plt.vlines(true_mean, ymin=0, ymax=freq.max(), linestyles=\"dashed\", label=\"True Mean\", color=\"orange\")\n",
    "plt.legend();"
   ]
  },
  {
   "cell_type": "markdown",
   "metadata": {},
   "source": [
    "# Standard Error of mean\n",
    "É uma medida de confiança para uma amostra de uma distribuição. Ela é o desvio padrão da amostra."
   ]
  },
  {
   "cell_type": "code",
   "execution_count": 26,
   "metadata": {},
   "outputs": [],
   "source": [
    "def se(sampling):\n",
    "    return sampling.std()/np.sqrt(len(sampling))"
   ]
  },
  {
   "cell_type": "code",
   "execution_count": 28,
   "metadata": {},
   "outputs": [
    {
     "data": {
      "text/plain": [
       "0.447874905839476"
      ]
     },
     "execution_count": 28,
     "metadata": {},
     "output_type": "execute_result"
    }
   ],
   "source": [
    "se(run_experiment(10))"
   ]
  },
  {
   "cell_type": "code",
   "execution_count": 29,
   "metadata": {},
   "outputs": [
    {
     "data": {
      "text/plain": [
       "0.19271155704675447"
      ]
     },
     "execution_count": 29,
     "metadata": {},
     "output_type": "execute_result"
    }
   ],
   "source": [
    "se(run_experiment(100))"
   ]
  },
  {
   "cell_type": "markdown",
   "metadata": {},
   "source": [
    "# Intervalo de confiança\n",
    "A partir da média de uma amostra, nós podemos calcular um intervalo de confiança que vai ter uma grande chance de conter a média real. Sabendo que as médias das amostras se aproximam de uma distribuição normal e que 95% da massa de uma distribuição normal esta entre 2 desvios padrões, nós podemos multiplicar SE da amostra por dois e subtrair(e adicionar) esse valor pela média da amostra. Assim teremos um intervalo com 95% de chance de conter a  média real."
   ]
  },
  {
   "cell_type": "code",
   "execution_count": 34,
   "metadata": {},
   "outputs": [
    {
     "data": {
      "text/plain": [
       "((73.86830524916681, 74.1254767934295), 74)"
      ]
     },
     "execution_count": 34,
     "metadata": {},
     "output_type": "execute_result"
    }
   ],
   "source": [
    "sampling = run_experiment(1000)\n",
    "def ci(sampling):\n",
    "    mean = sampling.mean()\n",
    "    sampling_se = se(sampling)\n",
    "    return (mean - 2*sampling_se, mean  + 2*sampling_se)\n",
    "ci(sampling), true_mean"
   ]
  },
  {
   "cell_type": "code",
   "execution_count": 20,
   "metadata": {},
   "outputs": [
    {
     "data": {
      "text/plain": [
       "array([0.72365634, 0.09770855, 0.04832344, 0.18569541, 1.13570571,\n",
       "       0.17556301, 1.62209392, 3.45407686, 1.68081863, 1.3506459 ])"
      ]
     },
     "execution_count": 20,
     "metadata": {},
     "output_type": "execute_result"
    }
   ],
   "source": [
    "np.random.exponential(1.0, size=10)"
   ]
  },
  {
   "cell_type": "code",
   "execution_count": 16,
   "metadata": {},
   "outputs": [
    {
     "data": {
      "text/html": [
       "<div>\n",
       "<style scoped>\n",
       "    .dataframe tbody tr th:only-of-type {\n",
       "        vertical-align: middle;\n",
       "    }\n",
       "\n",
       "    .dataframe tbody tr th {\n",
       "        vertical-align: top;\n",
       "    }\n",
       "\n",
       "    .dataframe thead th {\n",
       "        text-align: right;\n",
       "    }\n",
       "</style>\n",
       "<table border=\"1\" class=\"dataframe\">\n",
       "  <thead>\n",
       "    <tr style=\"text-align: right;\">\n",
       "      <th></th>\n",
       "      <th>gender</th>\n",
       "      <th>asian</th>\n",
       "      <th>black</th>\n",
       "      <th>hawaiian</th>\n",
       "      <th>hispanic</th>\n",
       "      <th>unknown</th>\n",
       "      <th>white</th>\n",
       "      <th>format_ol</th>\n",
       "      <th>format_blended</th>\n",
       "      <th>falsexam</th>\n",
       "    </tr>\n",
       "  </thead>\n",
       "  <tbody>\n",
       "    <tr>\n",
       "      <th>0</th>\n",
       "      <td>0</td>\n",
       "      <td>0.0</td>\n",
       "      <td>0.0</td>\n",
       "      <td>0.0</td>\n",
       "      <td>0.0</td>\n",
       "      <td>0.0</td>\n",
       "      <td>1.0</td>\n",
       "      <td>0</td>\n",
       "      <td>0.0</td>\n",
       "      <td>63.29997</td>\n",
       "    </tr>\n",
       "    <tr>\n",
       "      <th>1</th>\n",
       "      <td>1</td>\n",
       "      <td>0.0</td>\n",
       "      <td>0.0</td>\n",
       "      <td>0.0</td>\n",
       "      <td>0.0</td>\n",
       "      <td>0.0</td>\n",
       "      <td>1.0</td>\n",
       "      <td>0</td>\n",
       "      <td>0.0</td>\n",
       "      <td>79.96000</td>\n",
       "    </tr>\n",
       "    <tr>\n",
       "      <th>2</th>\n",
       "      <td>1</td>\n",
       "      <td>0.0</td>\n",
       "      <td>0.0</td>\n",
       "      <td>0.0</td>\n",
       "      <td>0.0</td>\n",
       "      <td>0.0</td>\n",
       "      <td>1.0</td>\n",
       "      <td>0</td>\n",
       "      <td>1.0</td>\n",
       "      <td>83.37000</td>\n",
       "    </tr>\n",
       "    <tr>\n",
       "      <th>3</th>\n",
       "      <td>1</td>\n",
       "      <td>0.0</td>\n",
       "      <td>0.0</td>\n",
       "      <td>0.0</td>\n",
       "      <td>0.0</td>\n",
       "      <td>0.0</td>\n",
       "      <td>1.0</td>\n",
       "      <td>0</td>\n",
       "      <td>1.0</td>\n",
       "      <td>90.01994</td>\n",
       "    </tr>\n",
       "    <tr>\n",
       "      <th>4</th>\n",
       "      <td>1</td>\n",
       "      <td>0.0</td>\n",
       "      <td>0.0</td>\n",
       "      <td>0.0</td>\n",
       "      <td>0.0</td>\n",
       "      <td>0.0</td>\n",
       "      <td>1.0</td>\n",
       "      <td>1</td>\n",
       "      <td>0.0</td>\n",
       "      <td>83.30000</td>\n",
       "    </tr>\n",
       "  </tbody>\n",
       "</table>\n",
       "</div>"
      ],
      "text/plain": [
       "   gender  asian  black  hawaiian  hispanic  unknown  white  format_ol  \\\n",
       "0       0    0.0    0.0       0.0       0.0      0.0    1.0          0   \n",
       "1       1    0.0    0.0       0.0       0.0      0.0    1.0          0   \n",
       "2       1    0.0    0.0       0.0       0.0      0.0    1.0          0   \n",
       "3       1    0.0    0.0       0.0       0.0      0.0    1.0          0   \n",
       "4       1    0.0    0.0       0.0       0.0      0.0    1.0          1   \n",
       "\n",
       "   format_blended  falsexam  \n",
       "0             0.0  63.29997  \n",
       "1             0.0  79.96000  \n",
       "2             1.0  83.37000  \n",
       "3             1.0  90.01994  \n",
       "4             0.0  83.30000  "
      ]
     },
     "execution_count": 16,
     "metadata": {},
     "output_type": "execute_result"
    }
   ],
   "source": [
    "data = pd.read_csv('data/course/online_classroom.csv')\n",
    "data.head()"
   ]
  },
  {
   "cell_type": "code",
   "execution_count": 17,
   "metadata": {},
   "outputs": [
    {
     "data": {
      "text/plain": [
       "(323, 10)"
      ]
     },
     "execution_count": 17,
     "metadata": {},
     "output_type": "execute_result"
    }
   ],
   "source": [
    "data.shape"
   ]
  },
  {
   "cell_type": "code",
   "execution_count": 15,
   "metadata": {},
   "outputs": [
    {
     "data": {
      "image/png": "[encoded data removed]",
      "text/plain": [
       "<Figure size 640x480 with 1 Axes>"
      ]
     },
     "metadata": {},
     "output_type": "display_data"
    }
   ],
   "source": [
    "plt.hist(data.falsexam, bins=40);"
   ]
  },
  {
   "cell_type": "code",
   "execution_count": 19,
   "metadata": {},
   "outputs": [
    {
     "data": {
      "image/png": "[encoded data removed]",
      "text/plain": [
       "<Figure size 640x480 with 1 Axes>"
      ]
     },
     "metadata": {},
     "output_type": "display_data"
    }
   ],
   "source": [
    "plt.hist(data.sample(50).falsexam, bins=40);"
   ]
  },
  {
   "cell_type": "code",
   "execution_count": 18,
   "metadata": {},
   "outputs": [
    {
     "data": {
      "image/png": "[encoded data removed]",
      "text/plain": [
       "<Figure size 640x480 with 1 Axes>"
      ]
     },
     "metadata": {},
     "output_type": "display_data"
    }
   ],
   "source": [
    "freq, bins, img = plt.hist([data.sample(50).falsexam.mean() for _ in range(10000)], bins=40, label=\"Experiment Means\")\n",
    "plt.vlines(data.falsexam.mean(), ymin=0, ymax=freq.max(), linestyles=\"dashed\", label=\"True Mean\", color=\"orange\")\n",
    "plt.legend();"
   ]
  },
  {
   "cell_type": "code",
   "execution_count": 24,
   "metadata": {},
   "outputs": [
    {
     "data": {
      "text/plain": [
       "(73.63526308510637, 78.54748458333333)"
      ]
     },
     "execution_count": 24,
     "metadata": {},
     "output_type": "execute_result"
    }
   ],
   "source": [
    "online = data.query(\"format_ol==1\")[\"falsexam\"]\n",
    "face_to_face = data.query(\"format_ol==0 & format_blended==0\")[\"falsexam\"]\n",
    "online.mean(), face_to_face.mean()"
   ]
  },
  {
   "cell_type": "code",
   "execution_count": 35,
   "metadata": {},
   "outputs": [
    {
     "data": {
      "text/plain": [
       "((70.56094429049804, 76.7095818797147), (76.80278229206951, 80.29218687459715))"
      ]
     },
     "execution_count": 35,
     "metadata": {},
     "output_type": "execute_result"
    }
   ],
   "source": [
    "ci(online), ci(face_to_face)"
   ]
  },
  {
   "cell_type": "code",
   "execution_count": 39,
   "metadata": {},
   "outputs": [
    {
     "data": {
      "text/plain": [
       "(-4.912221498226955,\n",
       " 1.7674432194573626,\n",
       " (-8.44710793714168, -1.3773350593122302))"
      ]
     },
     "execution_count": 39,
     "metadata": {},
     "output_type": "execute_result"
    }
   ],
   "source": [
    "# A diferença entre duas distribuições normais é um distribuição normal\n",
    "# Com isso, também podemos calcular o intervalo de confiança para a diferença das médias\n",
    "diff_mean = online.mean() - face_to_face.mean()\n",
    "diff_se = np.sqrt(face_to_face.var()/len(face_to_face) + online.var()/len(online))\n",
    "diff_ci = (diff_mean - 2*diff_se, diff_mean + 2*diff_se)\n",
    "diff_mean, diff_se, diff_ci"
   ]
  },
  {
   "cell_type": "code",
   "execution_count": 40,
   "metadata": {},
   "outputs": [
    {
     "data": {
      "text/plain": [
       "-2.7792810791031224"
      ]
     },
     "execution_count": 40,
     "metadata": {},
     "output_type": "execute_result"
    }
   ],
   "source": [
    "z = diff_mean/diff_se\n",
    "z"
   ]
  },
  {
   "cell_type": "markdown",
   "metadata": {},
   "source": [
    "# Regressão linear\n",
    "O cálculo do ATE pode ser feito utilizando uma regressão linear, o ATE vai ser o coeficiente da variável que representa o tratamento. Em experimentos randomizados, esse valor pode ser a partir de em uma regressão considerando a apenas o tratamento como uma variável dependente."
   ]
  },
  {
   "cell_type": "code",
   "execution_count": 6,
   "metadata": {},
   "outputs": [
    {
     "data": {
      "text/html": [
       "<table class=\"simpletable\">\n",
       "<tr>\n",
       "      <td></td>         <th>coef</th>     <th>std err</th>      <th>t</th>      <th>P>|t|</th>  <th>[0.025</th>    <th>0.975]</th>  \n",
       "</tr>\n",
       "<tr>\n",
       "  <th>Intercept</th> <td>   78.7791</td> <td>    1.133</td> <td>   69.527</td> <td> 0.000</td> <td>   76.542</td> <td>   81.016</td>\n",
       "</tr>\n",
       "<tr>\n",
       "  <th>format_ol</th> <td>   -4.3957</td> <td>    1.761</td> <td>   -2.497</td> <td> 0.014</td> <td>   -7.872</td> <td>   -0.920</td>\n",
       "</tr>\n",
       "</table>"
      ],
      "text/latex": [
       "\\begin{center}\n",
       "\\begin{tabular}{lcccccc}\n",
       "\\toprule\n",
       "                    & \\textbf{coef} & \\textbf{std err} & \\textbf{t} & \\textbf{P$> |$t$|$} & \\textbf{[0.025} & \\textbf{0.975]}  \\\\\n",
       "\\midrule\n",
       "\\textbf{Intercept}  &      78.7791  &        1.133     &    69.527  &         0.000        &       76.542    &       81.016     \\\\\n",
       "\\textbf{format\\_ol} &      -4.3957  &        1.761     &    -2.497  &         0.014        &       -7.872    &       -0.920     \\\\\n",
       "\\bottomrule\n",
       "\\end{tabular}\n",
       "\\end{center}"
      ],
      "text/plain": [
       "<class 'statsmodels.iolib.table.SimpleTable'>"
      ]
     },
     "execution_count": 6,
     "metadata": {},
     "output_type": "execute_result"
    }
   ],
   "source": [
    "data = pd.read_csv(\"data/course/online_classroom.csv\").query(\"format_blended==0\")\n",
    "data = data.dropna()\n",
    "result = smf.ols('falsexam ~ format_ol', data=data).fit()\n",
    "result.summary().tables[1]"
   ]
  },
  {
   "cell_type": "code",
   "execution_count": 7,
   "metadata": {},
   "outputs": [
    {
     "data": {
      "text/plain": [
       "-4.395717929292931"
      ]
     },
     "execution_count": 7,
     "metadata": {},
     "output_type": "execute_result"
    }
   ],
   "source": [
    "# Em experimentos randomizados, ATE = Cov(Y, T)/var(T)\n",
    "kapa = data[\"falsexam\"].cov(data[\"format_ol\"]) / data[\"format_ol\"].var()\n",
    "kapa"
   ]
  },
  {
   "cell_type": "code",
   "execution_count": 12,
   "metadata": {},
   "outputs": [
    {
     "data": {
      "text/plain": [
       "-4.2414526737047975"
      ]
     },
     "execution_count": 12,
     "metadata": {},
     "output_type": "execute_result"
    }
   ],
   "source": [
    "# Em experimentos não randomizados, ATE = Cov(Y, T_resid)/var(T_resid), \n",
    "# onde T_resid é o residuo da regressão das covariates sobre T, \n",
    "# sendo assim estamos avaliando o efeito do tratamento desconsiderando \n",
    "# os efeitos das outras variáveis\n",
    "\n",
    "covariates = data.drop(columns=['format_ol', 'format_blended', 'falsexam'])\n",
    "covariates_str = ' + '.join(covariates)\n",
    "result = smf.ols(f'format_ol ~ {covariates_str}', data=data).fit()\n",
    "t_resid = result.resid\n",
    "\n",
    "kapa = data['falsexam'].cov(t_resid) / t_resid.var()\n",
    "kapa"
   ]
  },
  {
   "cell_type": "code",
   "execution_count": 14,
   "metadata": {},
   "outputs": [
    {
     "data": {
      "text/html": [
       "<table class=\"simpletable\">\n",
       "<tr>\n",
       "      <td></td>         <th>coef</th>     <th>std err</th>      <th>t</th>      <th>P>|t|</th>  <th>[0.025</th>    <th>0.975]</th>  \n",
       "</tr>\n",
       "<tr>\n",
       "  <th>Intercept</th> <td>   65.0397</td> <td>    2.546</td> <td>   25.544</td> <td> 0.000</td> <td>   60.012</td> <td>   70.068</td>\n",
       "</tr>\n",
       "<tr>\n",
       "  <th>gender</th>    <td>    4.5745</td> <td>    1.790</td> <td>    2.556</td> <td> 0.012</td> <td>    1.041</td> <td>    8.108</td>\n",
       "</tr>\n",
       "<tr>\n",
       "  <th>asian</th>     <td>   11.2076</td> <td>    2.744</td> <td>    4.085</td> <td> 0.000</td> <td>    5.790</td> <td>   16.625</td>\n",
       "</tr>\n",
       "<tr>\n",
       "  <th>black</th>     <td>    8.5765</td> <td>    3.842</td> <td>    2.232</td> <td> 0.027</td> <td>    0.990</td> <td>   16.163</td>\n",
       "</tr>\n",
       "<tr>\n",
       "  <th>hawaiian</th>  <td>   20.9018</td> <td>    9.487</td> <td>    2.203</td> <td> 0.029</td> <td>    2.169</td> <td>   39.635</td>\n",
       "</tr>\n",
       "<tr>\n",
       "  <th>hispanic</th>  <td>   13.5779</td> <td>    5.774</td> <td>    2.352</td> <td> 0.020</td> <td>    2.176</td> <td>   24.980</td>\n",
       "</tr>\n",
       "<tr>\n",
       "  <th>unknown</th>   <td>  2.34e-15</td> <td> 1.77e-15</td> <td>    1.326</td> <td> 0.187</td> <td>-1.15e-15</td> <td> 5.83e-15</td>\n",
       "</tr>\n",
       "<tr>\n",
       "  <th>white</th>     <td>   10.7759</td> <td>    2.448</td> <td>    4.402</td> <td> 0.000</td> <td>    5.942</td> <td>   15.610</td>\n",
       "</tr>\n",
       "<tr>\n",
       "  <th>format_ol</th> <td>   -4.2415</td> <td>    1.774</td> <td>   -2.390</td> <td> 0.018</td> <td>   -7.745</td> <td>   -0.738</td>\n",
       "</tr>\n",
       "</table>"
      ],
      "text/latex": [
       "\\begin{center}\n",
       "\\begin{tabular}{lcccccc}\n",
       "\\toprule\n",
       "                    & \\textbf{coef} & \\textbf{std err} & \\textbf{t} & \\textbf{P$> |$t$|$} & \\textbf{[0.025} & \\textbf{0.975]}  \\\\\n",
       "\\midrule\n",
       "\\textbf{Intercept}  &      65.0397  &        2.546     &    25.544  &         0.000        &       60.012    &       70.068     \\\\\n",
       "\\textbf{gender}     &       4.5745  &        1.790     &     2.556  &         0.012        &        1.041    &        8.108     \\\\\n",
       "\\textbf{asian}      &      11.2076  &        2.744     &     4.085  &         0.000        &        5.790    &       16.625     \\\\\n",
       "\\textbf{black}      &       8.5765  &        3.842     &     2.232  &         0.027        &        0.990    &       16.163     \\\\\n",
       "\\textbf{hawaiian}   &      20.9018  &        9.487     &     2.203  &         0.029        &        2.169    &       39.635     \\\\\n",
       "\\textbf{hispanic}   &      13.5779  &        5.774     &     2.352  &         0.020        &        2.176    &       24.980     \\\\\n",
       "\\textbf{unknown}    &     2.34e-15  &     1.77e-15     &     1.326  &         0.187        &    -1.15e-15    &     5.83e-15     \\\\\n",
       "\\textbf{white}      &      10.7759  &        2.448     &     4.402  &         0.000        &        5.942    &       15.610     \\\\\n",
       "\\textbf{format\\_ol} &      -4.2415  &        1.774     &    -2.390  &         0.018        &       -7.745    &       -0.738     \\\\\n",
       "\\bottomrule\n",
       "\\end{tabular}\n",
       "\\end{center}"
      ],
      "text/plain": [
       "<class 'statsmodels.iolib.table.SimpleTable'>"
      ]
     },
     "execution_count": 14,
     "metadata": {},
     "output_type": "execute_result"
    }
   ],
   "source": [
    "## Esse cálculo tem o mesmo efeito que fazer a regressão da covariates \n",
    "# junto com tratamento para prever o outcome\n",
    "covariates = data.drop(columns=['format_blended', 'falsexam'])\n",
    "covariates_str = ' + '.join(covariates)\n",
    "result = smf.ols(f'falsexam ~ {covariates_str}', data=data).fit()\n",
    "result.summary().tables[1]"
   ]
  },
  {
   "cell_type": "code",
   "execution_count": null,
   "metadata": {},
   "outputs": [],
   "source": []
  }
 ],
 "metadata": {
  "kernelspec": {
   "display_name": "Python 3",
   "language": "python",
   "name": "python3"
  },
  "language_info": {
   "codemirror_mode": {
    "name": "ipython",
    "version": 3
   },
   "file_extension": ".py",
   "mimetype": "text/x-python",
   "name": "python",
   "nbconvert_exporter": "python",
   "pygments_lexer": "ipython3",
   "version": "3.8.17"
  },
  "orig_nbformat": 4
 },
 "nbformat": 4,
 "nbformat_minor": 2
}
